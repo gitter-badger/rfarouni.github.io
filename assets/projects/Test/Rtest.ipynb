{
 "cells": [
  {
   "cell_type": "markdown",
   "metadata": {},
   "source": [
    "\n",
    "Let $\\mathbf{x}^{(1)} \\in \\mathbb{R}^{p_1}$ and $\\mathbf{x}^{(2)} \\in \\mathbb{R}^{p_2}$, each denote a random vector of observations for Battery 1 and Battery 2, respectively. Equations 2.1a and 2.1b in Browne, M. W. (1979) specify the following general inter-batttery factor analysis model\n",
    "\n",
    "$$\n",
    "\\begin{aligned}\n",
    "\\mathbf{z}&\\sim \\mathcal{N}\\left(\\boldsymbol{0},\\boldsymbol{\\Phi}\\right) \\\\\n",
    "\\mathbf{y}_t&\\sim \\mathcal{N}\\left(\\boldsymbol{0},\\boldsymbol{\\Theta}_t\\right) \\quad t=1,2\\\\\n",
    "\\mathbf{e}_t&\\sim \\mathcal{N}\\left(\\boldsymbol{0},\\boldsymbol{\\Upsilon}_t\\right) \\quad t=1,2\\\\\n",
    "\\mathbf{x}^{(1)}&=\\boldsymbol{\\mu}_1+ \\boldsymbol{\\Lambda}^{(1)}\\mathbf{z}+\\boldsymbol{\\Gamma}^{(1)}\\mathbf{y}_1+ \\mathbf{e}_1 \\\\\n",
    "\\mathbf{x}^{(2)} &=\\boldsymbol{\\mu}_2+\\boldsymbol{\\Lambda}^{(2)}\\mathbf{z}+\\boldsymbol{\\Gamma}^{(2)}\\mathbf{y}_2+ \\mathbf{e}_2 \n",
    "\\end{aligned}\n",
    "$$\n",
    "\n",
    "The above model is non-identifiable and for the purposes of ML estimation of the interbattery loadings, the paper assumes $\\boldsymbol{\\Phi}=\\mathbf{I}$ and treats the battery specific loadings $\\boldsymbol{\\Gamma}^{(t)}$  and the means as nuisiance variables. These assumptions give us to the following model "
   ]
  },
  {
   "cell_type": "code",
   "execution_count": 1,
   "metadata": {
    "collapsed": false
   },
   "outputs": [
    {
     "name": "stderr",
     "output_type": "stream",
     "text": [
      "Loading required package: MASS\n",
      "Loading required package: Matrix\n",
      "Loading required package: clusterGeneration\n"
     ]
    }
   ],
   "source": [
    "require(MASS)\n",
    "require(Matrix)\n",
    "require(clusterGeneration)\n",
    "\n",
    "N  <- 20000     #Sample size\n",
    "D  <- c(7,7)    #Number of variables in each battery: 1 and 2\n",
    "I  <- 1         #Number of inter-battery factors\n",
    "S  <- 1         #Number of battery-specific factors\n",
    "K  <- I + 2 * S #1 interbattery + 2 battery specific factor\n",
    "M  <- 2         # number of batteries"
   ]
  },
  {
   "cell_type": "code",
   "execution_count": 2,
   "metadata": {
    "collapsed": true
   },
   "outputs": [],
   "source": [
    "Lambda <- vector(\"list\",length = M)\n",
    "Gamma  <- vector(\"list\",length = M)  \n",
    "Upsilon <- vector(\"list\", length = M)  \n",
    "\n",
    "\n",
    "#Generate interbatter factor loading matrices.\n",
    "Lambda[[1]]  <- matrix(rnorm(D[1] * I), nrow = D[1], ncol = I)\n",
    "Lambda[[2]]  <- matrix(rnorm(D[2] * I), nrow = D[2], ncol = I)\n",
    "Lambda  <- rbind(Lambda[[1]] , Lambda[[2]])\n",
    "\n",
    "#Generate battery-specific factor loading matrices.\n",
    "Gamma[[1]]   <- matrix(rnorm(D[1] * S), nrow = D[1], ncol = S)\n",
    "Gamma[[2]]  <- matrix(rnorm(D[2] * S), nrow = D[2], ncol = S)\n",
    "Gamma   <- bdiag(list(Gamma[[1]] , Gamma[[2]]))\n",
    "\n",
    "#Generate uniquness covariance matrices.\n",
    "Upsilon[[1]]   <- diag(rep(0.8,D[1]))\n",
    "Upsilon[[2]] <- diag(rep(0.7,D[2]))\n",
    "Upsilon   <- bdiag(list(Upsilon[[1]] , Upsilon[[2]]))"
   ]
  },
  {
   "cell_type": "code",
   "execution_count": null,
   "metadata": {
    "collapsed": true
   },
   "outputs": [],
   "source": []
  }
 ],
 "metadata": {
  "kernelspec": {
   "display_name": "R",
   "language": "R",
   "name": "ir"
  },
  "language_info": {
   "codemirror_mode": "r",
   "file_extension": ".r",
   "mimetype": "text/x-r-source",
   "name": "R",
   "pygments_lexer": "r",
   "version": "3.2.3"
  }
 },
 "nbformat": 4,
 "nbformat_minor": 0
}
